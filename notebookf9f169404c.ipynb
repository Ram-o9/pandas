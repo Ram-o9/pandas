{
 "cells": [
  {
   "cell_type": "code",
   "execution_count": 2,
   "metadata": {},
   "outputs": [],
   "source": [
    "#Importing Pandas Library**"
   ]
  },
  {
   "cell_type": "code",
   "execution_count": 3,
   "metadata": {
    "execution": {
     "iopub.execute_input": "2023-01-27T07:15:10.448996Z",
     "iopub.status.busy": "2023-01-27T07:15:10.448579Z",
     "iopub.status.idle": "2023-01-27T07:15:10.454334Z",
     "shell.execute_reply": "2023-01-27T07:15:10.453126Z",
     "shell.execute_reply.started": "2023-01-27T07:15:10.44896Z"
    }
   },
   "outputs": [],
   "source": [
    "import pandas as pd"
   ]
  },
  {
   "cell_type": "markdown",
   "metadata": {},
   "source": [
    "**Checking Pandas Version**"
   ]
  },
  {
   "cell_type": "code",
   "execution_count": 4,
   "metadata": {
    "execution": {
     "iopub.execute_input": "2023-01-27T07:15:10.456732Z",
     "iopub.status.busy": "2023-01-27T07:15:10.456378Z",
     "iopub.status.idle": "2023-01-27T07:15:10.47Z",
     "shell.execute_reply": "2023-01-27T07:15:10.468863Z",
     "shell.execute_reply.started": "2023-01-27T07:15:10.4567Z"
    }
   },
   "outputs": [
    {
     "data": {
      "text/plain": [
       "'2.0.3'"
      ]
     },
     "execution_count": 4,
     "metadata": {},
     "output_type": "execute_result"
    }
   ],
   "source": [
    "pd.__version__"
   ]
  },
  {
   "cell_type": "markdown",
   "metadata": {},
   "source": [
    "**Pandas Series**\n",
    "\n",
    "*It is a one-dimensional array holding data of any type*"
   ]
  },
  {
   "cell_type": "code",
   "execution_count": 5,
   "metadata": {
    "execution": {
     "iopub.execute_input": "2023-01-27T07:15:10.471923Z",
     "iopub.status.busy": "2023-01-27T07:15:10.471575Z",
     "iopub.status.idle": "2023-01-27T07:15:10.484834Z",
     "shell.execute_reply": "2023-01-27T07:15:10.484006Z",
     "shell.execute_reply.started": "2023-01-27T07:15:10.471892Z"
    }
   },
   "outputs": [
    {
     "data": {
      "text/plain": [
       "0     3\n",
       "1     6\n",
       "2     9\n",
       "3    12\n",
       "4    15\n",
       "5    18\n",
       "6    21\n",
       "dtype: int64"
      ]
     },
     "execution_count": 5,
     "metadata": {},
     "output_type": "execute_result"
    }
   ],
   "source": [
    "x = [3,6,9,12,15,18,21]\n",
    "ser = pd.Series(x)\n",
    "ser"
   ]
  },
  {
   "cell_type": "markdown",
   "metadata": {},
   "source": [
    "**If nothing else is specified, the values are labeled with their index number**\n",
    "\n",
    "**First value has index 0, second value has index 1 and so on**\n",
    "\n",
    "**The label's can be used to access a specified value**"
   ]
  },
  {
   "cell_type": "code",
   "execution_count": 6,
   "metadata": {
    "execution": {
     "iopub.execute_input": "2023-01-27T07:15:10.487949Z",
     "iopub.status.busy": "2023-01-27T07:15:10.486934Z",
     "iopub.status.idle": "2023-01-27T07:15:10.49899Z",
     "shell.execute_reply": "2023-01-27T07:15:10.498127Z",
     "shell.execute_reply.started": "2023-01-27T07:15:10.487914Z"
    }
   },
   "outputs": [
    {
     "data": {
      "text/plain": [
       "3"
      ]
     },
     "execution_count": 6,
     "metadata": {},
     "output_type": "execute_result"
    }
   ],
   "source": [
    "ser[0]"
   ]
  },
  {
   "cell_type": "markdown",
   "metadata": {},
   "source": [
    "**Creating Labels**"
   ]
  },
  {
   "cell_type": "code",
   "execution_count": 7,
   "metadata": {
    "execution": {
     "iopub.execute_input": "2023-01-27T07:15:10.501125Z",
     "iopub.status.busy": "2023-01-27T07:15:10.50063Z",
     "iopub.status.idle": "2023-01-27T07:15:10.51313Z",
     "shell.execute_reply": "2023-01-27T07:15:10.512383Z",
     "shell.execute_reply.started": "2023-01-27T07:15:10.501076Z"
    }
   },
   "outputs": [
    {
     "data": {
      "text/plain": [
       "A     3\n",
       "B     6\n",
       "C     9\n",
       "D    12\n",
       "E    15\n",
       "F    18\n",
       "G    21\n",
       "dtype: int64"
      ]
     },
     "execution_count": 7,
     "metadata": {},
     "output_type": "execute_result"
    }
   ],
   "source": [
    "x = [3,6,9,12,15,18,21]\n",
    "ser = pd.Series(x,index = [\"A\",\"B\",\"C\",\"D\",\"E\",\"F\",\"G\"])\n",
    "ser"
   ]
  },
  {
   "cell_type": "markdown",
   "metadata": {},
   "source": [
    "**Using Name Attribute**"
   ]
  },
  {
   "cell_type": "code",
   "execution_count": 8,
   "metadata": {
    "execution": {
     "iopub.execute_input": "2023-01-27T07:15:10.514922Z",
     "iopub.status.busy": "2023-01-27T07:15:10.514102Z",
     "iopub.status.idle": "2023-01-27T07:15:10.529032Z",
     "shell.execute_reply": "2023-01-27T07:15:10.528318Z",
     "shell.execute_reply.started": "2023-01-27T07:15:10.514891Z"
    }
   },
   "outputs": [
    {
     "data": {
      "text/plain": [
       "A     3\n",
       "B     6\n",
       "C     9\n",
       "D    12\n",
       "E    15\n",
       "F    18\n",
       "G    21\n",
       "Name: Multiple's of 3, dtype: int64"
      ]
     },
     "execution_count": 8,
     "metadata": {},
     "output_type": "execute_result"
    }
   ],
   "source": [
    "x = [3,6,9,12,15,18,21]\n",
    "ser = pd.Series(x,index = [\"A\",\"B\",\"C\",\"D\",\"E\",\"F\",\"G\"],name = \"Multiple's of 3\")\n",
    "ser"
   ]
  },
  {
   "cell_type": "markdown",
   "metadata": {},
   "source": [
    "**When you have created labels, you can access an item by referring to the label**"
   ]
  },
  {
   "cell_type": "code",
   "execution_count": 9,
   "metadata": {
    "execution": {
     "iopub.execute_input": "2023-01-27T07:15:10.530843Z",
     "iopub.status.busy": "2023-01-27T07:15:10.530339Z",
     "iopub.status.idle": "2023-01-27T07:15:10.541072Z",
     "shell.execute_reply": "2023-01-27T07:15:10.540348Z",
     "shell.execute_reply.started": "2023-01-27T07:15:10.530812Z"
    }
   },
   "outputs": [
    {
     "data": {
      "text/plain": [
       "3"
      ]
     },
     "execution_count": 9,
     "metadata": {},
     "output_type": "execute_result"
    }
   ],
   "source": [
    "ser[\"A\"]"
   ]
  },
  {
   "cell_type": "markdown",
   "metadata": {},
   "source": [
    "**Key/Value Pairs as Series**\n",
    "\n",
    "*The keys of the dictionary become the labels*"
   ]
  },
  {
   "cell_type": "code",
   "execution_count": 10,
   "metadata": {
    "execution": {
     "iopub.execute_input": "2023-01-27T07:15:10.543337Z",
     "iopub.status.busy": "2023-01-27T07:15:10.542652Z",
     "iopub.status.idle": "2023-01-27T07:15:10.556887Z",
     "shell.execute_reply": "2023-01-27T07:15:10.555651Z",
     "shell.execute_reply.started": "2023-01-27T07:15:10.543294Z"
    }
   },
   "outputs": [
    {
     "data": {
      "text/plain": [
       "day1    420\n",
       "day2    380\n",
       "day3    390\n",
       "day4    410\n",
       "day5    320\n",
       "dtype: int64"
      ]
     },
     "execution_count": 10,
     "metadata": {},
     "output_type": "execute_result"
    }
   ],
   "source": [
    "cal = {\"day1\": 420, \"day2\": 380, \"day3\": 390,\"day4\":410,\"day5\":320}\n",
    "cal_ser = pd.Series(cal)\n",
    "cal_ser"
   ]
  },
  {
   "cell_type": "markdown",
   "metadata": {},
   "source": [
    "**Access Item by using Key of the Dictionary**"
   ]
  },
  {
   "cell_type": "code",
   "execution_count": 11,
   "metadata": {
    "execution": {
     "iopub.execute_input": "2023-01-27T07:15:10.560136Z",
     "iopub.status.busy": "2023-01-27T07:15:10.559511Z",
     "iopub.status.idle": "2023-01-27T07:15:10.568813Z",
     "shell.execute_reply": "2023-01-27T07:15:10.568067Z",
     "shell.execute_reply.started": "2023-01-27T07:15:10.56007Z"
    }
   },
   "outputs": [
    {
     "data": {
      "text/plain": [
       "420"
      ]
     },
     "execution_count": 11,
     "metadata": {},
     "output_type": "execute_result"
    }
   ],
   "source": [
    "cal_ser[\"day1\"]"
   ]
  },
  {
   "cell_type": "markdown",
   "metadata": {},
   "source": [
    "**Pandas DataFrames**\n",
    "\n",
    "*It is a two-dimensional array holding data of any type in form of rows and columns*"
   ]
  },
  {
   "cell_type": "code",
   "execution_count": 13,
   "metadata": {
    "execution": {
     "iopub.execute_input": "2023-01-27T07:15:10.570489Z",
     "iopub.status.busy": "2023-01-27T07:15:10.569944Z",
     "iopub.status.idle": "2023-01-27T07:15:10.589505Z",
     "shell.execute_reply": "2023-01-27T07:15:10.5884Z",
     "shell.execute_reply.started": "2023-01-27T07:15:10.570456Z"
    }
   },
   "outputs": [
    {
     "data": {
      "text/html": [
       "<div>\n",
       "<style scoped>\n",
       "    .dataframe tbody tr th:only-of-type {\n",
       "        vertical-align: middle;\n",
       "    }\n",
       "\n",
       "    .dataframe tbody tr th {\n",
       "        vertical-align: top;\n",
       "    }\n",
       "\n",
       "    .dataframe thead th {\n",
       "        text-align: right;\n",
       "    }\n",
       "</style>\n",
       "<table border=\"1\" class=\"dataframe\">\n",
       "  <thead>\n",
       "    <tr style=\"text-align: right;\">\n",
       "      <th></th>\n",
       "      <th>calories</th>\n",
       "      <th>duration</th>\n",
       "    </tr>\n",
       "  </thead>\n",
       "  <tbody>\n",
       "    <tr>\n",
       "      <th>0</th>\n",
       "      <td>420</td>\n",
       "      <td>50</td>\n",
       "    </tr>\n",
       "    <tr>\n",
       "      <th>1</th>\n",
       "      <td>380</td>\n",
       "      <td>40</td>\n",
       "    </tr>\n",
       "    <tr>\n",
       "      <th>2</th>\n",
       "      <td>390</td>\n",
       "      <td>45</td>\n",
       "    </tr>\n",
       "    <tr>\n",
       "      <th>3</th>\n",
       "      <td>410</td>\n",
       "      <td>47</td>\n",
       "    </tr>\n",
       "    <tr>\n",
       "      <th>4</th>\n",
       "      <td>320</td>\n",
       "      <td>49</td>\n",
       "    </tr>\n",
       "  </tbody>\n",
       "</table>\n",
       "</div>"
      ],
      "text/plain": [
       "   calories  duration\n",
       "0       420        50\n",
       "1       380        40\n",
       "2       390        45\n",
       "3       410        47\n",
       "4       320        49"
      ]
     },
     "execution_count": 13,
     "metadata": {},
     "output_type": "execute_result"
    }
   ],
   "source": [
    "cal = {\"calories\":[420,380,390,410,320],\n",
    "      \"duration\":[50,40,45,47,49]}\n",
    "cal_df = pd.DataFrame(cal)\n",
    "cal_df"
   ]
  },
  {
   "cell_type": "markdown",
   "metadata": {},
   "source": [
    "**Index of Data Frame**"
   ]
  },
  {
   "cell_type": "code",
   "execution_count": 14,
   "metadata": {
    "execution": {
     "iopub.execute_input": "2023-01-27T07:15:10.592692Z",
     "iopub.status.busy": "2023-01-27T07:15:10.59164Z",
     "iopub.status.idle": "2023-01-27T07:15:10.601642Z",
     "shell.execute_reply": "2023-01-27T07:15:10.600633Z",
     "shell.execute_reply.started": "2023-01-27T07:15:10.592659Z"
    }
   },
   "outputs": [
    {
     "data": {
      "text/plain": [
       "RangeIndex(start=0, stop=5, step=1)"
      ]
     },
     "execution_count": 14,
     "metadata": {},
     "output_type": "execute_result"
    }
   ],
   "source": [
    "cal_df.index"
   ]
  },
  {
   "cell_type": "markdown",
   "metadata": {},
   "source": [
    "**Locate Row**\n",
    "\n",
    "*Pandas use the loc attribute to return one or more specified row(s)*"
   ]
  },
  {
   "cell_type": "code",
   "execution_count": 16,
   "metadata": {
    "execution": {
     "iopub.execute_input": "2023-01-27T07:15:10.603415Z",
     "iopub.status.busy": "2023-01-27T07:15:10.602904Z",
     "iopub.status.idle": "2023-01-27T07:15:10.615328Z",
     "shell.execute_reply": "2023-01-27T07:15:10.614076Z",
     "shell.execute_reply.started": "2023-01-27T07:15:10.603385Z"
    }
   },
   "outputs": [
    {
     "data": {
      "text/html": [
       "<div>\n",
       "<style scoped>\n",
       "    .dataframe tbody tr th:only-of-type {\n",
       "        vertical-align: middle;\n",
       "    }\n",
       "\n",
       "    .dataframe tbody tr th {\n",
       "        vertical-align: top;\n",
       "    }\n",
       "\n",
       "    .dataframe thead th {\n",
       "        text-align: right;\n",
       "    }\n",
       "</style>\n",
       "<table border=\"1\" class=\"dataframe\">\n",
       "  <thead>\n",
       "    <tr style=\"text-align: right;\">\n",
       "      <th></th>\n",
       "      <th>calories</th>\n",
       "      <th>duration</th>\n",
       "    </tr>\n",
       "  </thead>\n",
       "  <tbody>\n",
       "    <tr>\n",
       "      <th>0</th>\n",
       "      <td>420</td>\n",
       "      <td>50</td>\n",
       "    </tr>\n",
       "    <tr>\n",
       "      <th>1</th>\n",
       "      <td>380</td>\n",
       "      <td>40</td>\n",
       "    </tr>\n",
       "    <tr>\n",
       "      <th>2</th>\n",
       "      <td>390</td>\n",
       "      <td>45</td>\n",
       "    </tr>\n",
       "    <tr>\n",
       "      <th>3</th>\n",
       "      <td>410</td>\n",
       "      <td>47</td>\n",
       "    </tr>\n",
       "    <tr>\n",
       "      <th>4</th>\n",
       "      <td>320</td>\n",
       "      <td>49</td>\n",
       "    </tr>\n",
       "  </tbody>\n",
       "</table>\n",
       "</div>"
      ],
      "text/plain": [
       "   calories  duration\n",
       "0       420        50\n",
       "1       380        40\n",
       "2       390        45\n",
       "3       410        47\n",
       "4       320        49"
      ]
     },
     "execution_count": 16,
     "metadata": {},
     "output_type": "execute_result"
    }
   ],
   "source": [
    "cal_df.loc[0:] # This attribute returns a Pandas Series"
   ]
  },
  {
   "cell_type": "markdown",
   "metadata": {},
   "source": [
    "**Access Multiple Rows**\n",
    "\n",
    "*When using [ ] the result is a Pandas DataFrame*"
   ]
  },
  {
   "cell_type": "code",
   "execution_count": 17,
   "metadata": {
    "execution": {
     "iopub.execute_input": "2023-01-27T07:15:10.617157Z",
     "iopub.status.busy": "2023-01-27T07:15:10.616811Z",
     "iopub.status.idle": "2023-01-27T07:15:10.632632Z",
     "shell.execute_reply": "2023-01-27T07:15:10.631857Z",
     "shell.execute_reply.started": "2023-01-27T07:15:10.617097Z"
    }
   },
   "outputs": [
    {
     "data": {
      "text/html": [
       "<div>\n",
       "<style scoped>\n",
       "    .dataframe tbody tr th:only-of-type {\n",
       "        vertical-align: middle;\n",
       "    }\n",
       "\n",
       "    .dataframe tbody tr th {\n",
       "        vertical-align: top;\n",
       "    }\n",
       "\n",
       "    .dataframe thead th {\n",
       "        text-align: right;\n",
       "    }\n",
       "</style>\n",
       "<table border=\"1\" class=\"dataframe\">\n",
       "  <thead>\n",
       "    <tr style=\"text-align: right;\">\n",
       "      <th></th>\n",
       "      <th>calories</th>\n",
       "      <th>duration</th>\n",
       "    </tr>\n",
       "  </thead>\n",
       "  <tbody>\n",
       "    <tr>\n",
       "      <th>0</th>\n",
       "      <td>420</td>\n",
       "      <td>50</td>\n",
       "    </tr>\n",
       "    <tr>\n",
       "      <th>1</th>\n",
       "      <td>380</td>\n",
       "      <td>40</td>\n",
       "    </tr>\n",
       "  </tbody>\n",
       "</table>\n",
       "</div>"
      ],
      "text/plain": [
       "   calories  duration\n",
       "0       420        50\n",
       "1       380        40"
      ]
     },
     "execution_count": 17,
     "metadata": {},
     "output_type": "execute_result"
    }
   ],
   "source": [
    "cal_df.loc[[0,1]]"
   ]
  },
  {
   "cell_type": "markdown",
   "metadata": {},
   "source": [
    "**Named Indexes**\n",
    "\n",
    "*With the index argument, you can name your own indexes*"
   ]
  },
  {
   "cell_type": "code",
   "execution_count": 18,
   "metadata": {
    "execution": {
     "iopub.execute_input": "2023-01-27T07:15:10.634313Z",
     "iopub.status.busy": "2023-01-27T07:15:10.633983Z",
     "iopub.status.idle": "2023-01-27T07:15:10.645903Z",
     "shell.execute_reply": "2023-01-27T07:15:10.644822Z",
     "shell.execute_reply.started": "2023-01-27T07:15:10.634284Z"
    }
   },
   "outputs": [
    {
     "data": {
      "text/html": [
       "<div>\n",
       "<style scoped>\n",
       "    .dataframe tbody tr th:only-of-type {\n",
       "        vertical-align: middle;\n",
       "    }\n",
       "\n",
       "    .dataframe tbody tr th {\n",
       "        vertical-align: top;\n",
       "    }\n",
       "\n",
       "    .dataframe thead th {\n",
       "        text-align: right;\n",
       "    }\n",
       "</style>\n",
       "<table border=\"1\" class=\"dataframe\">\n",
       "  <thead>\n",
       "    <tr style=\"text-align: right;\">\n",
       "      <th></th>\n",
       "      <th>calories</th>\n",
       "      <th>duration</th>\n",
       "    </tr>\n",
       "  </thead>\n",
       "  <tbody>\n",
       "    <tr>\n",
       "      <th>day1</th>\n",
       "      <td>420</td>\n",
       "      <td>50</td>\n",
       "    </tr>\n",
       "    <tr>\n",
       "      <th>day2</th>\n",
       "      <td>380</td>\n",
       "      <td>40</td>\n",
       "    </tr>\n",
       "    <tr>\n",
       "      <th>day3</th>\n",
       "      <td>390</td>\n",
       "      <td>45</td>\n",
       "    </tr>\n",
       "    <tr>\n",
       "      <th>day4</th>\n",
       "      <td>410</td>\n",
       "      <td>47</td>\n",
       "    </tr>\n",
       "    <tr>\n",
       "      <th>day5</th>\n",
       "      <td>320</td>\n",
       "      <td>49</td>\n",
       "    </tr>\n",
       "  </tbody>\n",
       "</table>\n",
       "</div>"
      ],
      "text/plain": [
       "      calories  duration\n",
       "day1       420        50\n",
       "day2       380        40\n",
       "day3       390        45\n",
       "day4       410        47\n",
       "day5       320        49"
      ]
     },
     "execution_count": 18,
     "metadata": {},
     "output_type": "execute_result"
    }
   ],
   "source": [
    "cal = {\"calories\":[420,380,390,410,320],\n",
    "      \"duration\":[50,40,45,47,49]}\n",
    "cal_df = pd.DataFrame(cal,index = [\"day1\",\"day2\",\"day3\",\"day4\",\"day5\"])\n",
    "cal_df"
   ]
  },
  {
   "cell_type": "markdown",
   "metadata": {},
   "source": [
    "**Locate Named Indexes**\n",
    "\n",
    "*Use the named index in the loc attribute to return the specified row(s)*"
   ]
  },
  {
   "cell_type": "code",
   "execution_count": 19,
   "metadata": {
    "execution": {
     "iopub.execute_input": "2023-01-27T07:15:10.649138Z",
     "iopub.status.busy": "2023-01-27T07:15:10.648812Z",
     "iopub.status.idle": "2023-01-27T07:15:10.661363Z",
     "shell.execute_reply": "2023-01-27T07:15:10.660435Z",
     "shell.execute_reply.started": "2023-01-27T07:15:10.649098Z"
    }
   },
   "outputs": [
    {
     "data": {
      "text/plain": [
       "calories    420\n",
       "duration     50\n",
       "Name: day1, dtype: int64"
      ]
     },
     "execution_count": 19,
     "metadata": {},
     "output_type": "execute_result"
    }
   ],
   "source": [
    "cal_df.loc[\"day1\"]"
   ]
  },
  {
   "cell_type": "markdown",
   "metadata": {},
   "source": [
    "**Read CSV File**"
   ]
  },
  {
   "cell_type": "code",
   "execution_count": null,
   "metadata": {
    "execution": {
     "iopub.execute_input": "2023-01-27T07:15:10.666665Z",
     "iopub.status.busy": "2023-01-27T07:15:10.666101Z",
     "iopub.status.idle": "2023-01-27T07:15:10.68533Z",
     "shell.execute_reply": "2023-01-27T07:15:10.684235Z",
     "shell.execute_reply.started": "2023-01-27T07:15:10.666631Z"
    }
   },
   "outputs": [],
   "source": [
    "df = pd.read_csv(\"/kaggle/input/canada-per-capita-income/canada_per_capita_income.csv\")\n",
    "df"
   ]
  },
  {
   "cell_type": "markdown",
   "metadata": {},
   "source": [
    "**Changing the Index Column**"
   ]
  },
  {
   "cell_type": "code",
   "execution_count": null,
   "metadata": {
    "execution": {
     "iopub.execute_input": "2023-01-27T07:15:10.687222Z",
     "iopub.status.busy": "2023-01-27T07:15:10.686753Z",
     "iopub.status.idle": "2023-01-27T07:15:10.701432Z",
     "shell.execute_reply": "2023-01-27T07:15:10.700629Z",
     "shell.execute_reply.started": "2023-01-27T07:15:10.687193Z"
    }
   },
   "outputs": [],
   "source": [
    "df = pd.read_csv(\"/kaggle/input/canada-per-capita-income/canada_per_capita_income.csv\",index_col = \"year\")\n",
    "df"
   ]
  },
  {
   "cell_type": "markdown",
   "metadata": {},
   "source": [
    "**Manipulating the Index**"
   ]
  },
  {
   "cell_type": "code",
   "execution_count": null,
   "metadata": {
    "execution": {
     "iopub.execute_input": "2023-01-27T07:15:10.703063Z",
     "iopub.status.busy": "2023-01-27T07:15:10.702734Z",
     "iopub.status.idle": "2023-01-27T07:15:10.719049Z",
     "shell.execute_reply": "2023-01-27T07:15:10.717873Z",
     "shell.execute_reply.started": "2023-01-27T07:15:10.703033Z"
    }
   },
   "outputs": [],
   "source": [
    "df = pd.read_csv(\"/kaggle/input/canada-per-capita-income/canada_per_capita_income.csv\")\n",
    "df.set_index(\"year\")"
   ]
  },
  {
   "cell_type": "markdown",
   "metadata": {},
   "source": [
    "**Use to_string() to print the entire DataFrame**"
   ]
  },
  {
   "cell_type": "code",
   "execution_count": null,
   "metadata": {
    "execution": {
     "iopub.execute_input": "2023-01-27T07:15:10.721656Z",
     "iopub.status.busy": "2023-01-27T07:15:10.720554Z",
     "iopub.status.idle": "2023-01-27T07:15:10.730862Z",
     "shell.execute_reply": "2023-01-27T07:15:10.729587Z",
     "shell.execute_reply.started": "2023-01-27T07:15:10.72161Z"
    }
   },
   "outputs": [],
   "source": [
    "print(df.to_string())"
   ]
  },
  {
   "cell_type": "markdown",
   "metadata": {},
   "source": [
    "**Conditional Selection**"
   ]
  },
  {
   "cell_type": "code",
   "execution_count": null,
   "metadata": {
    "execution": {
     "iopub.execute_input": "2023-01-27T07:15:10.733422Z",
     "iopub.status.busy": "2023-01-27T07:15:10.732907Z",
     "iopub.status.idle": "2023-01-27T07:15:10.74814Z",
     "shell.execute_reply": "2023-01-27T07:15:10.747355Z",
     "shell.execute_reply.started": "2023-01-27T07:15:10.733391Z"
    }
   },
   "outputs": [],
   "source": [
    "df.year == 1970"
   ]
  },
  {
   "cell_type": "markdown",
   "metadata": {},
   "source": [
    "**max_rows**\n",
    "\n",
    "*The maximum number of rows returned is defined in Pandas option settings*"
   ]
  },
  {
   "cell_type": "code",
   "execution_count": null,
   "metadata": {
    "execution": {
     "iopub.execute_input": "2023-01-27T07:15:10.750379Z",
     "iopub.status.busy": "2023-01-27T07:15:10.749687Z",
     "iopub.status.idle": "2023-01-27T07:15:10.763178Z",
     "shell.execute_reply": "2023-01-27T07:15:10.762069Z",
     "shell.execute_reply.started": "2023-01-27T07:15:10.750335Z"
    }
   },
   "outputs": [],
   "source": [
    "pd.options.display.max_rows"
   ]
  },
  {
   "cell_type": "markdown",
   "metadata": {},
   "source": [
    "**Increase the maximum number of rows to display the entire DataFrame**"
   ]
  },
  {
   "cell_type": "code",
   "execution_count": null,
   "metadata": {
    "execution": {
     "iopub.execute_input": "2023-01-27T07:15:10.765583Z",
     "iopub.status.busy": "2023-01-27T07:15:10.764897Z",
     "iopub.status.idle": "2023-01-27T07:15:10.782019Z",
     "shell.execute_reply": "2023-01-27T07:15:10.780844Z",
     "shell.execute_reply.started": "2023-01-27T07:15:10.765541Z"
    }
   },
   "outputs": [],
   "source": [
    "pd.options.display.max_rows = 999\n",
    "pd.options.display.max_rows"
   ]
  },
  {
   "cell_type": "markdown",
   "metadata": {},
   "source": [
    "**min_rows**\n",
    "\n",
    "*The minimum number of rows returned is defined in Pandas option settings*"
   ]
  },
  {
   "cell_type": "code",
   "execution_count": null,
   "metadata": {
    "execution": {
     "iopub.execute_input": "2023-01-27T07:15:10.784363Z",
     "iopub.status.busy": "2023-01-27T07:15:10.783668Z",
     "iopub.status.idle": "2023-01-27T07:15:10.795043Z",
     "shell.execute_reply": "2023-01-27T07:15:10.793898Z",
     "shell.execute_reply.started": "2023-01-27T07:15:10.78432Z"
    }
   },
   "outputs": [],
   "source": [
    "pd.options.display.min_rows"
   ]
  },
  {
   "cell_type": "markdown",
   "metadata": {},
   "source": [
    "**Increase the minimum number of rows to display the entire DataFrame**"
   ]
  },
  {
   "cell_type": "code",
   "execution_count": null,
   "metadata": {
    "execution": {
     "iopub.execute_input": "2023-01-27T07:15:10.797443Z",
     "iopub.status.busy": "2023-01-27T07:15:10.796707Z",
     "iopub.status.idle": "2023-01-27T07:15:10.807622Z",
     "shell.execute_reply": "2023-01-27T07:15:10.806452Z",
     "shell.execute_reply.started": "2023-01-27T07:15:10.7974Z"
    }
   },
   "outputs": [],
   "source": [
    "pd.options.display.min_rows = 50\n",
    "pd.options.display.min_rows"
   ]
  },
  {
   "cell_type": "markdown",
   "metadata": {},
   "source": [
    "**Viewing the Data**\n",
    "\n",
    "*By default, the head() method returns the headers and top 5 rows*"
   ]
  },
  {
   "cell_type": "code",
   "execution_count": null,
   "metadata": {
    "execution": {
     "iopub.execute_input": "2023-01-27T07:15:10.810261Z",
     "iopub.status.busy": "2023-01-27T07:15:10.809313Z",
     "iopub.status.idle": "2023-01-27T07:15:10.82533Z",
     "shell.execute_reply": "2023-01-27T07:15:10.824424Z",
     "shell.execute_reply.started": "2023-01-27T07:15:10.810213Z"
    }
   },
   "outputs": [],
   "source": [
    "df = pd.read_csv(\"/kaggle/input/canada-per-capita-income/canada_per_capita_income.csv\")\n",
    "df.head()"
   ]
  },
  {
   "cell_type": "markdown",
   "metadata": {},
   "source": [
    "**Viewing the top 10 Rows**"
   ]
  },
  {
   "cell_type": "code",
   "execution_count": null,
   "metadata": {
    "execution": {
     "iopub.execute_input": "2023-01-27T07:15:10.827001Z",
     "iopub.status.busy": "2023-01-27T07:15:10.826486Z",
     "iopub.status.idle": "2023-01-27T07:15:10.838296Z",
     "shell.execute_reply": "2023-01-27T07:15:10.837188Z",
     "shell.execute_reply.started": "2023-01-27T07:15:10.826971Z"
    }
   },
   "outputs": [],
   "source": [
    "df.head(10)"
   ]
  },
  {
   "cell_type": "markdown",
   "metadata": {},
   "source": [
    "**Viewing the Data**\n",
    "\n",
    "*By default, the tail() method returns the headers and last 5 rows*"
   ]
  },
  {
   "cell_type": "code",
   "execution_count": null,
   "metadata": {
    "execution": {
     "iopub.execute_input": "2023-01-27T07:15:10.841033Z",
     "iopub.status.busy": "2023-01-27T07:15:10.840152Z",
     "iopub.status.idle": "2023-01-27T07:15:10.854422Z",
     "shell.execute_reply": "2023-01-27T07:15:10.853252Z",
     "shell.execute_reply.started": "2023-01-27T07:15:10.840973Z"
    }
   },
   "outputs": [],
   "source": [
    "df = pd.read_csv(\"/kaggle/input/canada-per-capita-income/canada_per_capita_income.csv\")\n",
    "df.tail()"
   ]
  },
  {
   "cell_type": "markdown",
   "metadata": {},
   "source": [
    "**Viewing the last 10 Rows**"
   ]
  },
  {
   "cell_type": "code",
   "execution_count": null,
   "metadata": {
    "execution": {
     "iopub.execute_input": "2023-01-27T07:15:10.856193Z",
     "iopub.status.busy": "2023-01-27T07:15:10.855552Z",
     "iopub.status.idle": "2023-01-27T07:15:10.867086Z",
     "shell.execute_reply": "2023-01-27T07:15:10.866069Z",
     "shell.execute_reply.started": "2023-01-27T07:15:10.856163Z"
    }
   },
   "outputs": [],
   "source": [
    "df.tail(10)"
   ]
  },
  {
   "cell_type": "markdown",
   "metadata": {},
   "source": [
    "**Info About the Data**\n",
    "\n",
    "*The DataFrames object has a method called info(), that gives you more information about the data set*"
   ]
  },
  {
   "cell_type": "code",
   "execution_count": null,
   "metadata": {
    "execution": {
     "iopub.execute_input": "2023-01-27T07:15:10.869359Z",
     "iopub.status.busy": "2023-01-27T07:15:10.868392Z",
     "iopub.status.idle": "2023-01-27T07:15:10.885174Z",
     "shell.execute_reply": "2023-01-27T07:15:10.883815Z",
     "shell.execute_reply.started": "2023-01-27T07:15:10.869323Z"
    }
   },
   "outputs": [],
   "source": [
    "df.info()"
   ]
  },
  {
   "cell_type": "markdown",
   "metadata": {},
   "source": [
    "**Data Cleaning**\n",
    "\n",
    "*Data cleaning means fixing bad data in your data set*\n",
    "\n",
    "*Bad data could be:*\n",
    "\n",
    "*-> Empty cells*\n",
    "\n",
    "*-> Data in wrong format*\n",
    "\n",
    "*-> Wrong data*\n",
    "\n",
    "*-> Duplicates*"
   ]
  },
  {
   "cell_type": "markdown",
   "metadata": {},
   "source": [
    "**Pandas - Cleaning Empty Cells**\n",
    "\n",
    "*Empty cells can potentially give you a wrong result when you analyze data*"
   ]
  },
  {
   "cell_type": "code",
   "execution_count": null,
   "metadata": {
    "execution": {
     "iopub.execute_input": "2023-01-27T07:15:10.887385Z",
     "iopub.status.busy": "2023-01-27T07:15:10.886975Z",
     "iopub.status.idle": "2023-01-27T07:15:10.911405Z",
     "shell.execute_reply": "2023-01-27T07:15:10.91048Z",
     "shell.execute_reply.started": "2023-01-27T07:15:10.887299Z"
    }
   },
   "outputs": [],
   "source": [
    "df = pd.read_csv(\"/kaggle/input/pandas-practice-dataset/data.csv\")\n",
    "df"
   ]
  },
  {
   "cell_type": "markdown",
   "metadata": {},
   "source": [
    "**Replace Empty Values**\n",
    "\n",
    "*A way of dealing with empty cells is to insert a new value instead*\n",
    "\n",
    "*The fillna() method allows us to replace empty cells with a value*\n",
    "\n",
    "*If you want to change the original DataFrame, use the inplace = True argument*\n",
    "\n",
    "*The fillna(inplace = True) will NOT return a new DataFrame, but it will fill all rows containing NULL values from the original DataFrame*"
   ]
  },
  {
   "cell_type": "code",
   "execution_count": null,
   "metadata": {
    "execution": {
     "iopub.execute_input": "2023-01-27T07:15:10.91786Z",
     "iopub.status.busy": "2023-01-27T07:15:10.917518Z",
     "iopub.status.idle": "2023-01-27T07:15:10.934247Z",
     "shell.execute_reply": "2023-01-27T07:15:10.933073Z",
     "shell.execute_reply.started": "2023-01-27T07:15:10.917831Z"
    }
   },
   "outputs": [],
   "source": [
    "df = df.fillna(130)\n",
    "df"
   ]
  },
  {
   "cell_type": "markdown",
   "metadata": {},
   "source": [
    "**Using Pandas replace() Method**\n",
    "\n",
    "*This Method replace 450 from Duration Column to 45*"
   ]
  },
  {
   "cell_type": "code",
   "execution_count": null,
   "metadata": {
    "execution": {
     "iopub.execute_input": "2023-01-27T07:15:10.93579Z",
     "iopub.status.busy": "2023-01-27T07:15:10.935468Z",
     "iopub.status.idle": "2023-01-27T07:15:10.949298Z",
     "shell.execute_reply": "2023-01-27T07:15:10.94829Z",
     "shell.execute_reply.started": "2023-01-27T07:15:10.93576Z"
    }
   },
   "outputs": [],
   "source": [
    "df.Duration.replace(450,45)"
   ]
  },
  {
   "cell_type": "markdown",
   "metadata": {},
   "source": [
    "**Replace Only For Specified Columns**\n",
    "\n",
    "*By using this syntax you can fill values at NaN position for Specific Column*"
   ]
  },
  {
   "cell_type": "code",
   "execution_count": null,
   "metadata": {
    "execution": {
     "iopub.execute_input": "2023-01-27T07:15:10.95158Z",
     "iopub.status.busy": "2023-01-27T07:15:10.950695Z",
     "iopub.status.idle": "2023-01-27T07:15:10.966709Z",
     "shell.execute_reply": "2023-01-27T07:15:10.965819Z",
     "shell.execute_reply.started": "2023-01-27T07:15:10.95154Z"
    }
   },
   "outputs": [],
   "source": [
    "df = pd.read_csv(\"/kaggle/input/pandas-practice-dataset/data.csv\")\n",
    "new_df = df[\"Calories\"].fillna(130)\n",
    "new_df"
   ]
  },
  {
   "cell_type": "markdown",
   "metadata": {},
   "source": [
    "**dropna() attribute return a new Data Frame with no empty cells**\n",
    "\n",
    "*By default, the dropna() method returns a new DataFrame, and will not change the original*"
   ]
  },
  {
   "cell_type": "markdown",
   "metadata": {},
   "source": [
    "*If you want to change the original DataFrame, use the inplace = True argument*\n",
    "\n",
    "*The dropna(inplace = True) will NOT return a new DataFrame, but it will remove all rows containing NULL values from the original DataFrame*"
   ]
  },
  {
   "cell_type": "code",
   "execution_count": null,
   "metadata": {
    "execution": {
     "iopub.execute_input": "2023-01-27T07:15:10.969084Z",
     "iopub.status.busy": "2023-01-27T07:15:10.968084Z",
     "iopub.status.idle": "2023-01-27T07:15:10.990654Z",
     "shell.execute_reply": "2023-01-27T07:15:10.989597Z",
     "shell.execute_reply.started": "2023-01-27T07:15:10.969052Z"
    }
   },
   "outputs": [],
   "source": [
    "df = pd.read_csv(\"/kaggle/input/pandas-practice-dataset/data.csv\")\n",
    "new_df = df.dropna()\n",
    "new_df"
   ]
  },
  {
   "cell_type": "markdown",
   "metadata": {},
   "source": [
    "**Delete from Specific Column**\n",
    "\n",
    "*By using this syntax you can delete NaN Values from Specific Column*"
   ]
  },
  {
   "cell_type": "code",
   "execution_count": null,
   "metadata": {
    "execution": {
     "iopub.execute_input": "2023-01-27T07:15:10.993727Z",
     "iopub.status.busy": "2023-01-27T07:15:10.993303Z",
     "iopub.status.idle": "2023-01-27T07:15:11.006454Z",
     "shell.execute_reply": "2023-01-27T07:15:11.005164Z",
     "shell.execute_reply.started": "2023-01-27T07:15:10.993681Z"
    }
   },
   "outputs": [],
   "source": [
    "df = pd.read_csv(\"/kaggle/input/pandas-practice-dataset/data.csv\")\n",
    "new_df = df[\"Calories\"].dropna()\n",
    "new_df"
   ]
  },
  {
   "cell_type": "markdown",
   "metadata": {},
   "source": [
    "**Replace Using Mean, Median, or Mode**\n",
    "\n",
    "*Pandas uses the mean() median() and mode() methods to calculate the respective values for a specified column*"
   ]
  },
  {
   "cell_type": "code",
   "execution_count": null,
   "metadata": {
    "execution": {
     "iopub.execute_input": "2023-01-27T07:15:11.008545Z",
     "iopub.status.busy": "2023-01-27T07:15:11.007708Z",
     "iopub.status.idle": "2023-01-27T07:15:11.019668Z",
     "shell.execute_reply": "2023-01-27T07:15:11.018845Z",
     "shell.execute_reply.started": "2023-01-27T07:15:11.008511Z"
    }
   },
   "outputs": [],
   "source": [
    "df = pd.read_csv(\"/kaggle/input/pandas-practice-dataset/data.csv\")\n",
    "df_cal = df[\"Calories\"]\n",
    "df_cal"
   ]
  },
  {
   "cell_type": "markdown",
   "metadata": {},
   "source": [
    "**Mean = the average value (the sum of all values divided by number of values)**"
   ]
  },
  {
   "cell_type": "code",
   "execution_count": null,
   "metadata": {
    "execution": {
     "iopub.execute_input": "2023-01-27T07:15:11.021539Z",
     "iopub.status.busy": "2023-01-27T07:15:11.020848Z",
     "iopub.status.idle": "2023-01-27T07:15:11.036022Z",
     "shell.execute_reply": "2023-01-27T07:15:11.035175Z",
     "shell.execute_reply.started": "2023-01-27T07:15:11.021505Z"
    }
   },
   "outputs": [],
   "source": [
    "df = pd.read_csv(\"/kaggle/input/pandas-practice-dataset/data.csv\")\n",
    "df_mean = df[\"Calories\"].mean()\n",
    "df[\"Calories\"].fillna(df_mean)"
   ]
  },
  {
   "cell_type": "markdown",
   "metadata": {},
   "source": [
    "**Median = the value in the middle, after you have sorted all values ascending**"
   ]
  },
  {
   "cell_type": "code",
   "execution_count": null,
   "metadata": {
    "execution": {
     "iopub.execute_input": "2023-01-27T07:15:11.038028Z",
     "iopub.status.busy": "2023-01-27T07:15:11.037332Z",
     "iopub.status.idle": "2023-01-27T07:15:11.053006Z",
     "shell.execute_reply": "2023-01-27T07:15:11.05163Z",
     "shell.execute_reply.started": "2023-01-27T07:15:11.037995Z"
    }
   },
   "outputs": [],
   "source": [
    "df = pd.read_csv(\"/kaggle/input/pandas-practice-dataset/data.csv\")\n",
    "df_median = df[\"Calories\"].median()\n",
    "df[\"Calories\"].fillna(df_median)"
   ]
  },
  {
   "cell_type": "markdown",
   "metadata": {},
   "source": [
    "**Mode = the value that appears most frequently**"
   ]
  },
  {
   "cell_type": "code",
   "execution_count": null,
   "metadata": {
    "execution": {
     "iopub.execute_input": "2023-01-27T07:15:11.056567Z",
     "iopub.status.busy": "2023-01-27T07:15:11.055798Z",
     "iopub.status.idle": "2023-01-27T07:15:11.068422Z",
     "shell.execute_reply": "2023-01-27T07:15:11.067392Z",
     "shell.execute_reply.started": "2023-01-27T07:15:11.056532Z"
    }
   },
   "outputs": [],
   "source": [
    "df = pd.read_csv(\"/kaggle/input/pandas-practice-dataset/data.csv\")\n",
    "df_mode = df[\"Calories\"].mode()[0]\n",
    "df[\"Calories\"].fillna(df_mode)"
   ]
  },
  {
   "cell_type": "markdown",
   "metadata": {},
   "source": [
    "**Pandas - Cleaning Data of Wrong Format**\n",
    "\n",
    "*Convert Into a Correct Format*\n",
    "\n",
    "*In our Data Frame, we have two cells with the wrong format. Check out row 22 and 26, the 'Date' column should be a string that represents a date*"
   ]
  },
  {
   "cell_type": "code",
   "execution_count": null,
   "metadata": {
    "execution": {
     "iopub.execute_input": "2023-01-27T07:15:11.070376Z",
     "iopub.status.busy": "2023-01-27T07:15:11.070044Z",
     "iopub.status.idle": "2023-01-27T07:15:11.080444Z",
     "shell.execute_reply": "2023-01-27T07:15:11.079455Z",
     "shell.execute_reply.started": "2023-01-27T07:15:11.070347Z"
    }
   },
   "outputs": [],
   "source": [
    "df = pd.read_csv(\"/kaggle/input/pandas-practice-dataset/data.csv\")\n",
    "df[\"Date\"]"
   ]
  },
  {
   "cell_type": "markdown",
   "metadata": {},
   "source": [
    "**Pandas has a to_datetime() method for Converting Date to right Format**"
   ]
  },
  {
   "cell_type": "code",
   "execution_count": null,
   "metadata": {
    "execution": {
     "iopub.execute_input": "2023-01-27T07:15:11.082644Z",
     "iopub.status.busy": "2023-01-27T07:15:11.081613Z",
     "iopub.status.idle": "2023-01-27T07:15:11.099907Z",
     "shell.execute_reply": "2023-01-27T07:15:11.098848Z",
     "shell.execute_reply.started": "2023-01-27T07:15:11.08261Z"
    }
   },
   "outputs": [],
   "source": [
    "df = pd.read_csv(\"/kaggle/input/pandas-practice-dataset/data.csv\")\n",
    "df[\"Date\"] = pd.to_datetime(df[\"Date\"])\n",
    "df[\"Date\"]"
   ]
  },
  {
   "cell_type": "markdown",
   "metadata": {},
   "source": [
    "**Pandas - Fixing Wrong Data**\n",
    "\n",
    "*How can we fix wrong values, like the one for \"Duration\" in row 7?*"
   ]
  },
  {
   "cell_type": "code",
   "execution_count": null,
   "metadata": {
    "execution": {
     "iopub.execute_input": "2023-01-27T07:15:11.101326Z",
     "iopub.status.busy": "2023-01-27T07:15:11.101013Z",
     "iopub.status.idle": "2023-01-27T07:15:11.111968Z",
     "shell.execute_reply": "2023-01-27T07:15:11.11098Z",
     "shell.execute_reply.started": "2023-01-27T07:15:11.101298Z"
    }
   },
   "outputs": [],
   "source": [
    "df = pd.read_csv(\"/kaggle/input/pandas-practice-dataset/data.csv\")\n",
    "df[\"Duration\"]"
   ]
  },
  {
   "cell_type": "markdown",
   "metadata": {},
   "source": [
    "**Replacing Values**"
   ]
  },
  {
   "cell_type": "code",
   "execution_count": null,
   "metadata": {
    "execution": {
     "iopub.execute_input": "2023-01-27T07:15:11.114023Z",
     "iopub.status.busy": "2023-01-27T07:15:11.11363Z",
     "iopub.status.idle": "2023-01-27T07:15:11.125158Z",
     "shell.execute_reply": "2023-01-27T07:15:11.12418Z",
     "shell.execute_reply.started": "2023-01-27T07:15:11.113983Z"
    }
   },
   "outputs": [],
   "source": [
    "df.loc[7,\"Duration\"] = 45\n",
    "df[\"Duration\"]"
   ]
  },
  {
   "cell_type": "markdown",
   "metadata": {},
   "source": [
    "*To replace wrong data for larger data sets you can create some rules, e.g. set some boundaries for legal values, and replace any values that are outside of the boundaries*"
   ]
  },
  {
   "cell_type": "code",
   "execution_count": null,
   "metadata": {
    "execution": {
     "iopub.execute_input": "2023-01-27T07:15:11.127497Z",
     "iopub.status.busy": "2023-01-27T07:15:11.126542Z",
     "iopub.status.idle": "2023-01-27T07:15:11.140953Z",
     "shell.execute_reply": "2023-01-27T07:15:11.140169Z",
     "shell.execute_reply.started": "2023-01-27T07:15:11.127466Z"
    }
   },
   "outputs": [],
   "source": [
    "df = pd.read_csv(\"/kaggle/input/pandas-practice-dataset/data.csv\")\n",
    "\n",
    "for x in df.index:\n",
    "    if df.loc[x,\"Duration\"] > 60:\n",
    "        df.loc[x,\"Duration\"] = 60\n",
    "        \n",
    "df[\"Duration\"]"
   ]
  },
  {
   "cell_type": "markdown",
   "metadata": {},
   "source": [
    "**Pandas - Removing Duplicates**\n",
    "\n",
    "*Duplicate rows are rows that have been registered more than one time*\n",
    "\n",
    "*To discover duplicates, we can use the duplicated() method*\n",
    "\n",
    "*The duplicated() method returns a Boolean values for each row*"
   ]
  },
  {
   "cell_type": "code",
   "execution_count": null,
   "metadata": {
    "execution": {
     "iopub.execute_input": "2023-01-27T07:15:11.142963Z",
     "iopub.status.busy": "2023-01-27T07:15:11.142392Z",
     "iopub.status.idle": "2023-01-27T07:15:11.153984Z",
     "shell.execute_reply": "2023-01-27T07:15:11.152986Z",
     "shell.execute_reply.started": "2023-01-27T07:15:11.14293Z"
    }
   },
   "outputs": [],
   "source": [
    "df = pd.read_csv(\"/kaggle/input/pandas-practice-dataset/data.csv\")\n",
    "df.duplicated()"
   ]
  },
  {
   "cell_type": "markdown",
   "metadata": {},
   "source": [
    "**Removing Duplicates**\n",
    "\n",
    "*To remove duplicates, use the drop_duplicates() method*\n",
    "\n",
    "*The (inplace = True) will make sure that the method does NOT return a new DataFrame, but it will remove all duplicates from the original DataFrame*"
   ]
  },
  {
   "cell_type": "code",
   "execution_count": null,
   "metadata": {
    "execution": {
     "iopub.execute_input": "2023-01-27T07:15:11.156105Z",
     "iopub.status.busy": "2023-01-27T07:15:11.15551Z",
     "iopub.status.idle": "2023-01-27T07:15:11.174546Z",
     "shell.execute_reply": "2023-01-27T07:15:11.173517Z",
     "shell.execute_reply.started": "2023-01-27T07:15:11.156062Z"
    }
   },
   "outputs": [],
   "source": [
    "df.drop_duplicates()"
   ]
  },
  {
   "cell_type": "markdown",
   "metadata": {},
   "source": [
    "**Pandas - Data Correlations**"
   ]
  },
  {
   "cell_type": "markdown",
   "metadata": {},
   "source": [
    "*Finding Relationships*\n",
    "\n",
    "*The corr() method calculates the relationship between each column in your data set*\n",
    "\n",
    "*The corr() method ignores \"not numeric\" columns*\n",
    "\n",
    "**The Result of the corr() method is a table with a lot of numbers that represents how well the relationship is between two columns**\n",
    "\n",
    "**The number varies from -1 to 1**\n",
    "\n",
    "*1 means that there is a 1 to 1 relationship (a perfect correlation), and for this data set, each time a value went up in the first column, the other one went up as well*"
   ]
  },
  {
   "cell_type": "markdown",
   "metadata": {},
   "source": [
    "**Perfect Correlation**\n",
    "\n",
    "*We can see that \"Duration\" and \"Duration\" got the number 1.000000, which makes sense, each column always has a perfect relationship with itself*\n",
    "\n",
    "**Good Correlation**\n",
    "\n",
    "*\"Duration\" and \"Calories\" got a 0.922721 correlation, which is a very good correlation, and we can predict that the longer you work out, the more calories you burn, and the other way around: if you burned a lot of calories, you probably had a long work out*\n",
    "\n",
    "**Bad Correlation**\n",
    "\n",
    "*\"Duration\" and \"Maxpulse\" got a 0.009403 correlation, which is a very bad correlation, meaning that we can not predict the max pulse by just looking at the duration of the work out, and vice versa*"
   ]
  },
  {
   "cell_type": "code",
   "execution_count": null,
   "metadata": {
    "execution": {
     "iopub.execute_input": "2023-01-27T07:15:11.176819Z",
     "iopub.status.busy": "2023-01-27T07:15:11.175888Z",
     "iopub.status.idle": "2023-01-27T07:15:11.193324Z",
     "shell.execute_reply": "2023-01-27T07:15:11.192055Z",
     "shell.execute_reply.started": "2023-01-27T07:15:11.176787Z"
    }
   },
   "outputs": [],
   "source": [
    "df.corr()"
   ]
  },
  {
   "cell_type": "markdown",
   "metadata": {},
   "source": [
    "**loc[ ] and iloc[ ] Function**"
   ]
  },
  {
   "cell_type": "code",
   "execution_count": null,
   "metadata": {
    "execution": {
     "iopub.execute_input": "2023-01-27T07:15:11.195391Z",
     "iopub.status.busy": "2023-01-27T07:15:11.194646Z",
     "iopub.status.idle": "2023-01-27T07:15:11.213294Z",
     "shell.execute_reply": "2023-01-27T07:15:11.212187Z",
     "shell.execute_reply.started": "2023-01-27T07:15:11.195358Z"
    }
   },
   "outputs": [],
   "source": [
    "df = pd.read_csv(\"/kaggle/input/pandas-practice-dataset/data.csv\")\n",
    "df"
   ]
  },
  {
   "cell_type": "markdown",
   "metadata": {},
   "source": [
    "**Index-based Selection**\n",
    "\n",
    "*Selecting First Column of CSV File*"
   ]
  },
  {
   "cell_type": "code",
   "execution_count": null,
   "metadata": {
    "execution": {
     "iopub.execute_input": "2023-01-27T07:15:11.215573Z",
     "iopub.status.busy": "2023-01-27T07:15:11.214742Z",
     "iopub.status.idle": "2023-01-27T07:15:11.222574Z",
     "shell.execute_reply": "2023-01-27T07:15:11.221599Z",
     "shell.execute_reply.started": "2023-01-27T07:15:11.215539Z"
    }
   },
   "outputs": [],
   "source": [
    "df.iloc[0]"
   ]
  },
  {
   "cell_type": "markdown",
   "metadata": {},
   "source": [
    "**Index Selection Using List**\n",
    "\n",
    "*Selecting Row 1,3,5 of Column 1*"
   ]
  },
  {
   "cell_type": "code",
   "execution_count": null,
   "metadata": {
    "execution": {
     "iopub.execute_input": "2023-01-27T07:15:11.224641Z",
     "iopub.status.busy": "2023-01-27T07:15:11.223915Z",
     "iopub.status.idle": "2023-01-27T07:15:11.237983Z",
     "shell.execute_reply": "2023-01-27T07:15:11.236806Z",
     "shell.execute_reply.started": "2023-01-27T07:15:11.2246Z"
    }
   },
   "outputs": [],
   "source": [
    "df.iloc[[1,3,5],1]"
   ]
  },
  {
   "cell_type": "markdown",
   "metadata": {},
   "source": [
    "**Label-based Selection**"
   ]
  },
  {
   "cell_type": "code",
   "execution_count": null,
   "metadata": {
    "execution": {
     "iopub.execute_input": "2023-01-27T07:15:11.239613Z",
     "iopub.status.busy": "2023-01-27T07:15:11.239213Z",
     "iopub.status.idle": "2023-01-27T07:15:11.250502Z",
     "shell.execute_reply": "2023-01-27T07:15:11.249502Z",
     "shell.execute_reply.started": "2023-01-27T07:15:11.23958Z"
    }
   },
   "outputs": [],
   "source": [
    "df.loc[0,\"Calories\"]"
   ]
  },
  {
   "cell_type": "markdown",
   "metadata": {},
   "source": [
    "**Label-based Selection with Condition**"
   ]
  },
  {
   "cell_type": "code",
   "execution_count": null,
   "metadata": {
    "execution": {
     "iopub.execute_input": "2023-01-27T07:15:11.252687Z",
     "iopub.status.busy": "2023-01-27T07:15:11.252024Z",
     "iopub.status.idle": "2023-01-27T07:15:11.27404Z",
     "shell.execute_reply": "2023-01-27T07:15:11.272642Z",
     "shell.execute_reply.started": "2023-01-27T07:15:11.252644Z"
    }
   },
   "outputs": [],
   "source": [
    "df.loc[df.Duration == 60]"
   ]
  },
  {
   "cell_type": "markdown",
   "metadata": {},
   "source": [
    "**Label-based Selection with Multiple Condition by Using \"and\" Operator**"
   ]
  },
  {
   "cell_type": "code",
   "execution_count": null,
   "metadata": {
    "execution": {
     "iopub.execute_input": "2023-01-27T07:15:11.275982Z",
     "iopub.status.busy": "2023-01-27T07:15:11.275235Z",
     "iopub.status.idle": "2023-01-27T07:15:11.288148Z",
     "shell.execute_reply": "2023-01-27T07:15:11.287066Z",
     "shell.execute_reply.started": "2023-01-27T07:15:11.275949Z"
    }
   },
   "outputs": [],
   "source": [
    "df.loc[(df.Duration == 60) & (df.Pulse == 110)]"
   ]
  },
  {
   "cell_type": "markdown",
   "metadata": {},
   "source": [
    "**Label-based Selection with Multiple Condition by Using \"or\" Operator**"
   ]
  },
  {
   "cell_type": "code",
   "execution_count": null,
   "metadata": {
    "execution": {
     "iopub.execute_input": "2023-01-27T07:15:11.290176Z",
     "iopub.status.busy": "2023-01-27T07:15:11.289506Z",
     "iopub.status.idle": "2023-01-27T07:15:11.312561Z",
     "shell.execute_reply": "2023-01-27T07:15:11.311176Z",
     "shell.execute_reply.started": "2023-01-27T07:15:11.290131Z"
    }
   },
   "outputs": [],
   "source": [
    "df.loc[(df.Duration == 60) | (df.Pulse == 110)]"
   ]
  },
  {
   "cell_type": "markdown",
   "metadata": {},
   "source": [
    "**isin() Built-in Conditional Selector**\n",
    "\n",
    "*isin() lets you select data whose value \"is in\" a list of values*"
   ]
  },
  {
   "cell_type": "code",
   "execution_count": null,
   "metadata": {
    "execution": {
     "iopub.execute_input": "2023-01-27T07:15:11.3145Z",
     "iopub.status.busy": "2023-01-27T07:15:11.314153Z",
     "iopub.status.idle": "2023-01-27T07:15:11.329845Z",
     "shell.execute_reply": "2023-01-27T07:15:11.328527Z",
     "shell.execute_reply.started": "2023-01-27T07:15:11.314471Z"
    }
   },
   "outputs": [],
   "source": [
    "df.loc[df.Pulse.isin([100,92])]"
   ]
  },
  {
   "cell_type": "markdown",
   "metadata": {},
   "source": [
    "**isnull() Built-in Conditional Selector**\n",
    "\n",
    "*isnull() methods let you highlight values which are (or are not) empty (NaN)*"
   ]
  },
  {
   "cell_type": "code",
   "execution_count": null,
   "metadata": {
    "execution": {
     "iopub.execute_input": "2023-01-27T07:15:11.331893Z",
     "iopub.status.busy": "2023-01-27T07:15:11.331339Z",
     "iopub.status.idle": "2023-01-27T07:15:11.353493Z",
     "shell.execute_reply": "2023-01-27T07:15:11.352511Z",
     "shell.execute_reply.started": "2023-01-27T07:15:11.331846Z"
    }
   },
   "outputs": [],
   "source": [
    "df.loc[df.Calories.notnull()]"
   ]
  },
  {
   "cell_type": "markdown",
   "metadata": {},
   "source": [
    "**isnull() Conditional Selector**\n",
    "\n",
    "*To select NaN entries you can use pd.isnull()*"
   ]
  },
  {
   "cell_type": "code",
   "execution_count": null,
   "metadata": {
    "execution": {
     "iopub.execute_input": "2023-01-27T07:15:11.355163Z",
     "iopub.status.busy": "2023-01-27T07:15:11.354827Z",
     "iopub.status.idle": "2023-01-27T07:15:11.367204Z",
     "shell.execute_reply": "2023-01-27T07:15:11.365994Z",
     "shell.execute_reply.started": "2023-01-27T07:15:11.355097Z"
    }
   },
   "outputs": [],
   "source": [
    "df[pd.isnull(df.Calories)]"
   ]
  },
  {
   "cell_type": "markdown",
   "metadata": {},
   "source": [
    "**Summary Functions**"
   ]
  },
  {
   "cell_type": "code",
   "execution_count": null,
   "metadata": {
    "execution": {
     "iopub.execute_input": "2023-01-27T07:15:11.369315Z",
     "iopub.status.busy": "2023-01-27T07:15:11.368906Z",
     "iopub.status.idle": "2023-01-27T07:15:11.381278Z",
     "shell.execute_reply": "2023-01-27T07:15:11.380287Z",
     "shell.execute_reply.started": "2023-01-27T07:15:11.369285Z"
    }
   },
   "outputs": [],
   "source": [
    "df = pd.read_csv(\"/kaggle/input/pandas-practice-dataset/data.csv\")\n",
    "df.Pulse.describe() # This method generates a high-level summary of the attributes of the given column"
   ]
  },
  {
   "cell_type": "code",
   "execution_count": null,
   "metadata": {
    "execution": {
     "iopub.execute_input": "2023-01-27T07:15:11.383906Z",
     "iopub.status.busy": "2023-01-27T07:15:11.38361Z",
     "iopub.status.idle": "2023-01-27T07:15:11.390419Z",
     "shell.execute_reply": "2023-01-27T07:15:11.389399Z",
     "shell.execute_reply.started": "2023-01-27T07:15:11.383879Z"
    }
   },
   "outputs": [],
   "source": [
    "df.Pulse.unique() # To see a list of unique values we can use the unique() function"
   ]
  },
  {
   "cell_type": "code",
   "execution_count": null,
   "metadata": {
    "execution": {
     "iopub.execute_input": "2023-01-27T07:15:11.39298Z",
     "iopub.status.busy": "2023-01-27T07:15:11.39202Z",
     "iopub.status.idle": "2023-01-27T07:15:11.405935Z",
     "shell.execute_reply": "2023-01-27T07:15:11.404887Z",
     "shell.execute_reply.started": "2023-01-27T07:15:11.392935Z"
    }
   },
   "outputs": [],
   "source": [
    "df.Pulse.value_counts() # To see a list of unique values and how often they occur in the dataset, we can use the value_counts() method"
   ]
  },
  {
   "cell_type": "markdown",
   "metadata": {},
   "source": [
    "**Renaming**\n",
    "\n",
    "*This Method lets you change index names and/or column names*"
   ]
  },
  {
   "cell_type": "code",
   "execution_count": null,
   "metadata": {
    "execution": {
     "iopub.execute_input": "2023-01-27T07:15:11.407935Z",
     "iopub.status.busy": "2023-01-27T07:15:11.40761Z",
     "iopub.status.idle": "2023-01-27T07:15:11.427811Z",
     "shell.execute_reply": "2023-01-27T07:15:11.42668Z",
     "shell.execute_reply.started": "2023-01-27T07:15:11.407907Z"
    }
   },
   "outputs": [],
   "source": [
    "df.rename(columns = {\"Duration\":\"Time\"})"
   ]
  },
  {
   "cell_type": "markdown",
   "metadata": {},
   "source": [
    "**Sorting**\n",
    "\n",
    "*To get data in the order we want, we use sort_values() Method*"
   ]
  },
  {
   "cell_type": "code",
   "execution_count": null,
   "metadata": {
    "execution": {
     "iopub.execute_input": "2023-01-27T07:15:11.429766Z",
     "iopub.status.busy": "2023-01-27T07:15:11.429444Z",
     "iopub.status.idle": "2023-01-27T07:15:11.448011Z",
     "shell.execute_reply": "2023-01-27T07:15:11.446834Z",
     "shell.execute_reply.started": "2023-01-27T07:15:11.429737Z"
    }
   },
   "outputs": [],
   "source": [
    "df.sort_values(by = \"Duration\")"
   ]
  },
  {
   "cell_type": "markdown",
   "metadata": {},
   "source": [
    "**sort_values() defaults to an ascending sort, where the lowest values go first**\n",
    "\n",
    "*However, most of the time we want a descending sort, where the higher numbers go first, then we use sort_values(by = \"col_name\", ascending = False)*"
   ]
  },
  {
   "cell_type": "code",
   "execution_count": null,
   "metadata": {
    "execution": {
     "iopub.execute_input": "2023-01-27T07:15:11.450126Z",
     "iopub.status.busy": "2023-01-27T07:15:11.449621Z",
     "iopub.status.idle": "2023-01-27T07:15:11.471449Z",
     "shell.execute_reply": "2023-01-27T07:15:11.470648Z",
     "shell.execute_reply.started": "2023-01-27T07:15:11.450071Z"
    }
   },
   "outputs": [],
   "source": [
    "df.sort_values(by = \"Duration\",ascending = False)"
   ]
  },
  {
   "cell_type": "code",
   "execution_count": null,
   "metadata": {
    "execution": {
     "iopub.execute_input": "2023-01-27T07:15:11.473058Z",
     "iopub.status.busy": "2023-01-27T07:15:11.472594Z",
     "iopub.status.idle": "2023-01-27T07:15:11.490062Z",
     "shell.execute_reply": "2023-01-27T07:15:11.488972Z",
     "shell.execute_reply.started": "2023-01-27T07:15:11.473029Z"
    }
   },
   "outputs": [],
   "source": [
    "df.sort_index() # To sort by index values, use the companion method sort_index()"
   ]
  },
  {
   "cell_type": "markdown",
   "metadata": {},
   "source": [
    "**Grouping**\n",
    "\n",
    "*count() and len Function both gives the same result but count() gives the output as Series and len gives the output as Data Frame*"
   ]
  },
  {
   "cell_type": "code",
   "execution_count": null,
   "metadata": {
    "execution": {
     "iopub.execute_input": "2023-01-27T07:15:11.497355Z",
     "iopub.status.busy": "2023-01-27T07:15:11.496697Z",
     "iopub.status.idle": "2023-01-27T07:15:11.508248Z",
     "shell.execute_reply": "2023-01-27T07:15:11.507171Z",
     "shell.execute_reply.started": "2023-01-27T07:15:11.497314Z"
    }
   },
   "outputs": [],
   "source": [
    "df = pd.read_csv(\"/kaggle/input/pandas-practice-dataset/data.csv\")\n",
    "df.groupby(\"Duration\").Duration.count() # Grouping the Values of Duration Column by Combining it with Count Function"
   ]
  },
  {
   "cell_type": "code",
   "execution_count": null,
   "metadata": {
    "execution": {
     "iopub.execute_input": "2023-01-27T07:15:11.510219Z",
     "iopub.status.busy": "2023-01-27T07:15:11.509706Z",
     "iopub.status.idle": "2023-01-27T07:15:11.518768Z",
     "shell.execute_reply": "2023-01-27T07:15:11.51753Z",
     "shell.execute_reply.started": "2023-01-27T07:15:11.510187Z"
    }
   },
   "outputs": [],
   "source": [
    "type(df.groupby(\"Duration\").Duration.count()) # This returns a Pandas Series"
   ]
  },
  {
   "cell_type": "code",
   "execution_count": null,
   "metadata": {
    "execution": {
     "iopub.execute_input": "2023-01-27T07:15:11.521274Z",
     "iopub.status.busy": "2023-01-27T07:15:11.520392Z",
     "iopub.status.idle": "2023-01-27T07:15:11.536079Z",
     "shell.execute_reply": "2023-01-27T07:15:11.535252Z",
     "shell.execute_reply.started": "2023-01-27T07:15:11.521231Z"
    }
   },
   "outputs": [],
   "source": [
    "df.groupby([\"Duration\"]).Duration.agg([len]) # Grouping the Values of Duration Column by Combining it with length Function"
   ]
  },
  {
   "cell_type": "code",
   "execution_count": null,
   "metadata": {
    "execution": {
     "iopub.execute_input": "2023-01-27T07:15:11.538035Z",
     "iopub.status.busy": "2023-01-27T07:15:11.537034Z",
     "iopub.status.idle": "2023-01-27T07:15:11.547299Z",
     "shell.execute_reply": "2023-01-27T07:15:11.546331Z",
     "shell.execute_reply.started": "2023-01-27T07:15:11.538004Z"
    }
   },
   "outputs": [],
   "source": [
    "type(df.groupby([\"Duration\"]).Duration.agg([len])) # This returns a Pandas Data Frame"
   ]
  },
  {
   "cell_type": "code",
   "execution_count": null,
   "metadata": {
    "execution": {
     "iopub.execute_input": "2023-01-27T07:15:11.54919Z",
     "iopub.status.busy": "2023-01-27T07:15:11.548413Z",
     "iopub.status.idle": "2023-01-27T07:15:11.562983Z",
     "shell.execute_reply": "2023-01-27T07:15:11.56188Z",
     "shell.execute_reply.started": "2023-01-27T07:15:11.549159Z"
    }
   },
   "outputs": [],
   "source": [
    "df.groupby(\"Duration\").Pulse.min() # Grouping the Values of Duration Column with Minimum Pulse"
   ]
  }
 ],
 "metadata": {
  "kaggle": {
   "accelerator": "none",
   "dataSources": [
    {
     "datasetId": 1402504,
     "sourceId": 2323576,
     "sourceType": "datasetVersion"
    },
    {
     "datasetId": 2844100,
     "sourceId": 4904103,
     "sourceType": "datasetVersion"
    }
   ],
   "dockerImageVersionId": 30369,
   "isGpuEnabled": false,
   "isInternetEnabled": false,
   "language": "python",
   "sourceType": "notebook"
  },
  "kernelspec": {
   "display_name": "Python 3 (ipykernel)",
   "language": "python",
   "name": "python3"
  },
  "language_info": {
   "codemirror_mode": {
    "name": "ipython",
    "version": 3
   },
   "file_extension": ".py",
   "mimetype": "text/x-python",
   "name": "python",
   "nbconvert_exporter": "python",
   "pygments_lexer": "ipython3",
   "version": "3.11.5"
  }
 },
 "nbformat": 4,
 "nbformat_minor": 4
}
